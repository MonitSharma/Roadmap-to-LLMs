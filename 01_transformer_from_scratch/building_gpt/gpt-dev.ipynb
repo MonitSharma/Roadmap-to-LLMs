{
 "cells": [
  {
   "cell_type": "markdown",
   "id": "0f709864",
   "metadata": {},
   "source": [
    "**Download Dataset to train on**"
   ]
  },
  {
   "cell_type": "markdown",
   "id": "8b67eac8",
   "metadata": {},
   "source": [
    "We will download the tiny shakespeare dataset (following Karpathy's tutorial)"
   ]
  },
  {
   "cell_type": "code",
   "execution_count": 39,
   "id": "19cee5c9",
   "metadata": {},
   "outputs": [
    {
     "name": "stdout",
     "output_type": "stream",
     "text": [
      "--2025-09-05 14:33:48--  https://raw.githubusercontent.com/karpathy/char-rnn/master/data/tinyshakespeare/input.txt\n",
      "Resolving raw.githubusercontent.com (raw.githubusercontent.com)... 185.199.108.133, 185.199.110.133, 185.199.109.133, ...\n",
      "Connecting to raw.githubusercontent.com (raw.githubusercontent.com)|185.199.108.133|:443... connected.\n",
      "HTTP request sent, awaiting response... 200 OK\n",
      "Length: 1115394 (1.1M) [text/plain]\n",
      "Saving to: ‘input.txt.2’\n",
      "\n",
      "input.txt.2         100%[===================>]   1.06M  --.-KB/s    in 0.08s   \n",
      "\n",
      "2025-09-05 14:33:49 (12.9 MB/s) - ‘input.txt.2’ saved [1115394/1115394]\n",
      "\n"
     ]
    }
   ],
   "source": [
    "!wget https://raw.githubusercontent.com/karpathy/char-rnn/master/data/tinyshakespeare/input.txt"
   ]
  },
  {
   "cell_type": "code",
   "execution_count": 40,
   "id": "704b5678",
   "metadata": {},
   "outputs": [],
   "source": [
    "# we will read it\n",
    "with open('input.txt', 'r', encoding='utf-8') as f:\n",
    "    text = f.read()"
   ]
  },
  {
   "cell_type": "code",
   "execution_count": 41,
   "id": "a669db05",
   "metadata": {},
   "outputs": [
    {
     "name": "stdout",
     "output_type": "stream",
     "text": [
      "length of dataset in characters: 1,115,394\n"
     ]
    }
   ],
   "source": [
    "print(f'length of dataset in characters: {len(text):,}')"
   ]
  },
  {
   "cell_type": "markdown",
   "id": "ac587317",
   "metadata": {},
   "source": [
    "Let's take a look at the first 1000 characters"
   ]
  },
  {
   "cell_type": "code",
   "execution_count": 42,
   "id": "973f04a1",
   "metadata": {},
   "outputs": [
    {
     "name": "stdout",
     "output_type": "stream",
     "text": [
      "First Citizen:\n",
      "Before we proceed any further, hear me speak.\n",
      "\n",
      "All:\n",
      "Speak, speak.\n",
      "\n",
      "First Citizen:\n",
      "You are all resolved rather to die than to famish?\n",
      "\n",
      "All:\n",
      "Resolved. resolved.\n",
      "\n",
      "First Citizen:\n",
      "First, you know Caius Marcius is chief enemy to the people.\n",
      "\n",
      "All:\n",
      "We know't, we know't.\n",
      "\n",
      "First Citizen:\n",
      "Let us kill him, and we'll have corn at our own price.\n",
      "Is't a verdict?\n",
      "\n",
      "All:\n",
      "No more talking on't; let it be done: away, away!\n",
      "\n",
      "Second Citizen:\n",
      "One word, good citizens.\n",
      "\n",
      "First Citizen:\n",
      "We are accounted poor citizens, the patricians good.\n",
      "What authority surfeits on would relieve us: if they\n",
      "would yield us but the superfluity, while it were\n",
      "wholesome, we might guess they relieved us humanely;\n",
      "but they think we are too dear: the leanness that\n",
      "afflicts us, the object of our misery, is as an\n",
      "inventory to particularise their abundance; our\n",
      "sufferance is a gain to them Let us revenge this with\n",
      "our pikes, ere we become rakes: for the gods know I\n",
      "speak this in hunger for bread, not in thirst for revenge.\n",
      "\n",
      "\n"
     ]
    }
   ],
   "source": [
    "print(text[:1000])"
   ]
  },
  {
   "cell_type": "markdown",
   "id": "2e43da63",
   "metadata": {},
   "source": [
    "Let's order the set"
   ]
  },
  {
   "cell_type": "code",
   "execution_count": 43,
   "id": "7f5cbc7e",
   "metadata": {},
   "outputs": [
    {
     "name": "stdout",
     "output_type": "stream",
     "text": [
      "65 unique characters: ['\\n', ' ', '!', '$', '&', \"'\", ',', '-', '.', '3', ':', ';', '?', 'A', 'B', 'C', 'D', 'E', 'F', 'G', 'H', 'I', 'J', 'K', 'L', 'M', 'N', 'O', 'P', 'Q', 'R', 'S', 'T', 'U', 'V', 'W', 'X', 'Y', 'Z', 'a', 'b', 'c', 'd', 'e', 'f', 'g', 'h', 'i', 'j', 'k', 'l', 'm', 'n', 'o', 'p', 'q', 'r', 's', 't', 'u', 'v', 'w', 'x', 'y', 'z']\n"
     ]
    }
   ],
   "source": [
    "chars = sorted(list(set(text)))\n",
    "print(f'{len(chars)} unique characters: {chars}')"
   ]
  },
  {
   "cell_type": "code",
   "execution_count": 44,
   "id": "01c53bd8",
   "metadata": {},
   "outputs": [
    {
     "name": "stdout",
     "output_type": "stream",
     "text": [
      "vocab size: 65\n"
     ]
    }
   ],
   "source": [
    "vocab_size = len(chars)\n",
    "print(f'vocab size: {vocab_size}')"
   ]
  },
  {
   "cell_type": "markdown",
   "id": "3805e01c",
   "metadata": {},
   "source": [
    "There are 65 unique characters, that will be our vocabulary size, and you can see, the characters include numbers, symbols, capital alphabets and small alphabets"
   ]
  },
  {
   "cell_type": "markdown",
   "id": "3e09f8f0",
   "metadata": {},
   "source": [
    "Now, **tokenize** the text. Here we will be doing character level tokenization, but bigger LLMs do it more efficiently and better"
   ]
  },
  {
   "cell_type": "code",
   "execution_count": 45,
   "id": "fa847881",
   "metadata": {},
   "outputs": [
    {
     "name": "stdout",
     "output_type": "stream",
     "text": [
      "[46, 47, 47, 1, 58, 46, 43, 56, 43]\n",
      "hii there\n"
     ]
    }
   ],
   "source": [
    "# create a mapping from characters to integers\n",
    "stoi = { ch:i for i,ch in enumerate(chars) }\n",
    "itos = { i:ch for i,ch in enumerate(chars) }\n",
    "def encode(s):\n",
    "    return [stoi[c] for c in s]  # encoder: take a string, output a list of integers\n",
    "def decode(l):\n",
    "    return ''.join([itos[i] for i in l])  # decoder: take a list of integers, output a string\n",
    "print(encode(\"hii there\"))\n",
    "print(decode(encode(\"hii there\")))"
   ]
  },
  {
   "cell_type": "markdown",
   "id": "90d94360",
   "metadata": {},
   "source": [
    "1. h = 46\n",
    "2. i = 47\n",
    "3. i = 47\n",
    "4. *space* = 1\n",
    "5. t = 58\n",
    "6. h = 46\n",
    "7. e = 43\n",
    "8. r = 56\n",
    "9. e = 43"
   ]
  },
  {
   "cell_type": "markdown",
   "id": "8204f05b",
   "metadata": {},
   "source": [
    "As you can see, even the `space` is encoded, and so is next line `\\n` (see example above).\n",
    "\n",
    "Other ways of doing tokenization:\n",
    "\n",
    "1. [Sentence Piece](https://github.com/google/sentencepiece): This is how google does it. In this you are not encoding the full wors, neither are you encoding individual characters, you are encoding sub words.\n",
    "2. [tiktoken](https://github.com/openai/tiktoken): This is how OpenAI does it.\n"
   ]
  },
  {
   "cell_type": "code",
   "execution_count": 46,
   "id": "beb3cf5d",
   "metadata": {},
   "outputs": [
    {
     "name": "stdout",
     "output_type": "stream",
     "text": [
      "[71, 3573, 1354]\n"
     ]
    }
   ],
   "source": [
    "import tiktoken\n",
    "enc = tiktoken.get_encoding(\"o200k_base\")\n",
    "assert enc.decode(enc.encode(\"hello world\")) == \"hello world\"\n",
    "\n",
    "# To get the tokeniser corresponding to a specific model in the OpenAI API:\n",
    "enc = tiktoken.encoding_for_model(\"gpt-4o\")\n",
    "\n",
    "print(enc.encode(\"hii there\"))\n"
   ]
  },
  {
   "cell_type": "code",
   "execution_count": 47,
   "id": "0932e30b",
   "metadata": {},
   "outputs": [
    {
     "name": "stdout",
     "output_type": "stream",
     "text": [
      "There are 297606 tokens in the text\n"
     ]
    }
   ],
   "source": [
    "# how many tokens are in the text\n",
    "print(f'There are {len(enc.encode(text))} tokens in the text')"
   ]
  },
  {
   "cell_type": "code",
   "execution_count": 48,
   "id": "514e90b3",
   "metadata": {},
   "outputs": [
    {
     "name": "stdout",
     "output_type": "stream",
     "text": [
      "vocab size: 200019\n"
     ]
    }
   ],
   "source": [
    "# what is the vocab size of this tokenizer\n",
    "print(f'vocab size: {enc.n_vocab}')"
   ]
  },
  {
   "cell_type": "markdown",
   "id": "5d11c775",
   "metadata": {},
   "source": [
    "We won't use these big tokenizers, we will keep things simple"
   ]
  },
  {
   "cell_type": "markdown",
   "id": "f1a9ac19",
   "metadata": {},
   "source": [
    "Now, going back to shakespeare, since we have the encode and decode function, we can tokenize the entire shakespeare dataset"
   ]
  },
  {
   "cell_type": "code",
   "execution_count": 49,
   "id": "88ba1758",
   "metadata": {},
   "outputs": [
    {
     "name": "stdout",
     "output_type": "stream",
     "text": [
      "torch.Size([1115394]) torch.int64\n",
      "tensor([18, 47, 56, 57, 58,  1, 15, 47, 58, 47, 64, 43, 52, 10,  0, 14, 43, 44,\n",
      "        53, 56, 43,  1, 61, 43,  1, 54, 56, 53, 41, 43, 43, 42,  1, 39, 52, 63,\n",
      "         1, 44, 59, 56, 58, 46, 43, 56,  6,  1, 46, 43, 39, 56,  1, 51, 43,  1,\n",
      "        57, 54, 43, 39, 49,  8,  0,  0, 13, 50, 50, 10,  0, 31, 54, 43, 39, 49,\n",
      "         6,  1, 57, 54, 43, 39, 49,  8,  0,  0, 18, 47, 56, 57, 58,  1, 15, 47,\n",
      "        58, 47, 64, 43, 52, 10,  0, 37, 53, 59,  1, 39, 56, 43,  1, 39, 50, 50,\n",
      "         1, 56, 43, 57, 53, 50, 60, 43, 42,  1, 56, 39, 58, 46, 43, 56,  1, 58,\n",
      "        53,  1, 42, 47, 43,  1, 58, 46, 39, 52,  1, 58, 53,  1, 44, 39, 51, 47,\n",
      "        57, 46, 12,  0,  0, 13, 50, 50, 10,  0, 30, 43, 57, 53, 50, 60, 43, 42,\n",
      "         8,  1, 56, 43, 57, 53, 50, 60, 43, 42,  8,  0,  0, 18, 47, 56, 57, 58,\n",
      "         1, 15, 47, 58, 47, 64, 43, 52, 10,  0, 18, 47, 56, 57, 58,  6,  1, 63,\n",
      "        53, 59,  1, 49, 52, 53, 61,  1, 15, 39, 47, 59, 57,  1, 25, 39, 56, 41,\n",
      "        47, 59, 57,  1, 47, 57,  1, 41, 46, 47, 43, 44,  1, 43, 52, 43, 51, 63,\n",
      "         1, 58, 53,  1, 58, 46, 43,  1, 54, 43, 53, 54, 50, 43,  8,  0,  0, 13,\n",
      "        50, 50, 10,  0, 35, 43,  1, 49, 52, 53, 61,  5, 58,  6,  1, 61, 43,  1,\n",
      "        49, 52, 53, 61,  5, 58,  8,  0,  0, 18, 47, 56, 57, 58,  1, 15, 47, 58,\n",
      "        47, 64, 43, 52, 10,  0, 24, 43, 58,  1, 59, 57,  1, 49, 47, 50, 50,  1,\n",
      "        46, 47, 51,  6,  1, 39, 52, 42,  1, 61, 43,  5, 50, 50,  1, 46, 39, 60,\n",
      "        43,  1, 41, 53, 56, 52,  1, 39, 58,  1, 53, 59, 56,  1, 53, 61, 52,  1,\n",
      "        54, 56, 47, 41, 43,  8,  0, 21, 57,  5, 58,  1, 39,  1, 60, 43, 56, 42,\n",
      "        47, 41, 58, 12,  0,  0, 13, 50, 50, 10,  0, 26, 53,  1, 51, 53, 56, 43,\n",
      "         1, 58, 39, 50, 49, 47, 52, 45,  1, 53, 52,  5, 58, 11,  1, 50, 43, 58,\n",
      "         1, 47, 58,  1, 40, 43,  1, 42, 53, 52, 43, 10,  1, 39, 61, 39, 63,  6,\n",
      "         1, 39, 61, 39, 63,  2,  0,  0, 31, 43, 41, 53, 52, 42,  1, 15, 47, 58,\n",
      "        47, 64, 43, 52, 10,  0, 27, 52, 43,  1, 61, 53, 56, 42,  6,  1, 45, 53,\n",
      "        53, 42,  1, 41, 47, 58, 47, 64, 43, 52, 57,  8,  0,  0, 18, 47, 56, 57,\n",
      "        58,  1, 15, 47, 58, 47, 64, 43, 52, 10,  0, 35, 43,  1, 39, 56, 43,  1,\n",
      "        39, 41, 41, 53, 59, 52, 58, 43, 42,  1, 54, 53, 53, 56,  1, 41, 47, 58,\n",
      "        47, 64, 43, 52, 57,  6,  1, 58, 46, 43,  1, 54, 39, 58, 56, 47, 41, 47,\n",
      "        39, 52, 57,  1, 45, 53, 53, 42,  8,  0, 35, 46, 39, 58,  1, 39, 59, 58,\n",
      "        46, 53, 56, 47, 58, 63,  1, 57, 59, 56, 44, 43, 47, 58, 57,  1, 53, 52,\n",
      "         1, 61, 53, 59, 50, 42,  1, 56, 43, 50, 47, 43, 60, 43,  1, 59, 57, 10,\n",
      "         1, 47, 44,  1, 58, 46, 43, 63,  0, 61, 53, 59, 50, 42,  1, 63, 47, 43,\n",
      "        50, 42,  1, 59, 57,  1, 40, 59, 58,  1, 58, 46, 43,  1, 57, 59, 54, 43,\n",
      "        56, 44, 50, 59, 47, 58, 63,  6,  1, 61, 46, 47, 50, 43,  1, 47, 58,  1,\n",
      "        61, 43, 56, 43,  0, 61, 46, 53, 50, 43, 57, 53, 51, 43,  6,  1, 61, 43,\n",
      "         1, 51, 47, 45, 46, 58,  1, 45, 59, 43, 57, 57,  1, 58, 46, 43, 63,  1,\n",
      "        56, 43, 50, 47, 43, 60, 43, 42,  1, 59, 57,  1, 46, 59, 51, 39, 52, 43,\n",
      "        50, 63, 11,  0, 40, 59, 58,  1, 58, 46, 43, 63,  1, 58, 46, 47, 52, 49,\n",
      "         1, 61, 43,  1, 39, 56, 43,  1, 58, 53, 53,  1, 42, 43, 39, 56, 10,  1,\n",
      "        58, 46, 43,  1, 50, 43, 39, 52, 52, 43, 57, 57,  1, 58, 46, 39, 58,  0,\n",
      "        39, 44, 44, 50, 47, 41, 58, 57,  1, 59, 57,  6,  1, 58, 46, 43,  1, 53,\n",
      "        40, 48, 43, 41, 58,  1, 53, 44,  1, 53, 59, 56,  1, 51, 47, 57, 43, 56,\n",
      "        63,  6,  1, 47, 57,  1, 39, 57,  1, 39, 52,  0, 47, 52, 60, 43, 52, 58,\n",
      "        53, 56, 63,  1, 58, 53,  1, 54, 39, 56, 58, 47, 41, 59, 50, 39, 56, 47,\n",
      "        57, 43,  1, 58, 46, 43, 47, 56,  1, 39, 40, 59, 52, 42, 39, 52, 41, 43,\n",
      "        11,  1, 53, 59, 56,  0, 57, 59, 44, 44, 43, 56, 39, 52, 41, 43,  1, 47,\n",
      "        57,  1, 39,  1, 45, 39, 47, 52,  1, 58, 53,  1, 58, 46, 43, 51,  1, 24,\n",
      "        43, 58,  1, 59, 57,  1, 56, 43, 60, 43, 52, 45, 43,  1, 58, 46, 47, 57,\n",
      "         1, 61, 47, 58, 46,  0, 53, 59, 56,  1, 54, 47, 49, 43, 57,  6,  1, 43,\n",
      "        56, 43,  1, 61, 43,  1, 40, 43, 41, 53, 51, 43,  1, 56, 39, 49, 43, 57,\n",
      "        10,  1, 44, 53, 56,  1, 58, 46, 43,  1, 45, 53, 42, 57,  1, 49, 52, 53,\n",
      "        61,  1, 21,  0, 57, 54, 43, 39, 49,  1, 58, 46, 47, 57,  1, 47, 52,  1,\n",
      "        46, 59, 52, 45, 43, 56,  1, 44, 53, 56,  1, 40, 56, 43, 39, 42,  6,  1,\n",
      "        52, 53, 58,  1, 47, 52,  1, 58, 46, 47, 56, 57, 58,  1, 44, 53, 56,  1,\n",
      "        56, 43, 60, 43, 52, 45, 43,  8,  0,  0])\n"
     ]
    }
   ],
   "source": [
    "import torch # will have to use pytorch\n",
    "data = torch.tensor(encode(text), dtype=torch.long)\n",
    "\n",
    "print(data.shape, data.dtype)\n",
    "print(data[:1000])  # first 1000 characters encoded as integers"
   ]
  },
  {
   "cell_type": "markdown",
   "id": "f1c66f46",
   "metadata": {},
   "source": [
    "Now, let's separate the train and validation sets"
   ]
  },
  {
   "cell_type": "code",
   "execution_count": 50,
   "id": "ada6fd2d",
   "metadata": {},
   "outputs": [
    {
     "name": "stdout",
     "output_type": "stream",
     "text": [
      "torch.Size([1003854]) torch.Size([111540])\n"
     ]
    }
   ],
   "source": [
    "# train and validation split\n",
    "n = int(0.9*len(data)) # first 90% will be train\n",
    "train_data = data[:n]\n",
    "val_data = data[n:]\n",
    "\n",
    "print(train_data.shape, val_data.shape)"
   ]
  },
  {
   "cell_type": "code",
   "execution_count": 51,
   "id": "8b2f9362",
   "metadata": {},
   "outputs": [
    {
     "data": {
      "text/plain": [
       "tensor([18, 47, 56, 57, 58,  1, 15, 47, 58])"
      ]
     },
     "execution_count": 51,
     "metadata": {},
     "output_type": "execute_result"
    }
   ],
   "source": [
    "block_size = 8 # how many characters do we take to predict the next character\n",
    "train_data[:block_size+1]  # we will take the first block_size characters to predict the next character\n"
   ]
  },
  {
   "cell_type": "code",
   "execution_count": 52,
   "id": "09716e91",
   "metadata": {},
   "outputs": [
    {
     "name": "stdout",
     "output_type": "stream",
     "text": [
      "when input is [18] the target: 47\n",
      "when input is [18, 47] the target: 56\n",
      "when input is [18, 47, 56] the target: 57\n",
      "when input is [18, 47, 56, 57] the target: 58\n",
      "when input is [18, 47, 56, 57, 58] the target: 1\n",
      "when input is [18, 47, 56, 57, 58, 1] the target: 15\n",
      "when input is [18, 47, 56, 57, 58, 1, 15] the target: 47\n",
      "when input is [18, 47, 56, 57, 58, 1, 15, 47] the target: 58\n"
     ]
    }
   ],
   "source": [
    "x = train_data[:block_size]  # inputs\n",
    "y = train_data[1:block_size+1]  # targets, shifted by one character\n",
    "for t in range(block_size):\n",
    "    context = x[:t+1]  # the context we have so far\n",
    "    target = y[t]  # the next character we want to predict\n",
    "    print(f'when input is {context.tolist()} the target: {target}')\n"
   ]
  },
  {
   "cell_type": "markdown",
   "id": "d23ca008",
   "metadata": {},
   "source": [
    "This code demonstrates how next-character prediction works in a GPT-style language model.\n",
    "\n",
    "- `x` contains the first `block_size` characters from the training data, which serve as the input context.\n",
    "- `y` contains the next `block_size` characters, shifted by one position, which are the targets for prediction.\n",
    "- For each position `t` in the block:\n",
    "    - `context` is the input sequence up to position `t` (i.e., the context available so far).\n",
    "    - `target` is the next character that the model should predict, given the current context.\n",
    "    - The print statement shows the context and the corresponding target character.\n",
    "\n",
    "This setup mimics how autoregressive models like GPT learn to predict the next token given a sequence of previous tokens."
   ]
  },
  {
   "cell_type": "markdown",
   "id": "41e93b68",
   "metadata": {},
   "source": [
    "Now, let's see batch dimension"
   ]
  },
  {
   "cell_type": "code",
   "execution_count": 53,
   "id": "a5d15bac",
   "metadata": {},
   "outputs": [],
   "source": [
    "seed = 135\n",
    "torch.manual_seed(seed)\n",
    "\n",
    "batch_size = 4 # how many independent sequences will we process in parallel?\n",
    "block_size = 8 # what is the maximum context length for predictions?\n",
    "\n",
    "def get_batch(split):\n",
    "    # generate a small batch of data of inputs x and targets y\n",
    "    data = train_data if split == 'train' else val_data\n",
    "    ix = torch.randint(len(data) - block_size, (batch_size,))  # random starting indices for each sequence in the batch\n",
    "    x = torch.stack([data[i:i+block_size] for i in ix])  # each row is a sequence of length block_size\n",
    "    y = torch.stack([data[i+1:i+block_size+1] for i in ix])  # targets, shifted by one character\n",
    "    return x, y"
   ]
  },
  {
   "cell_type": "code",
   "execution_count": 54,
   "id": "f77e5797",
   "metadata": {},
   "outputs": [
    {
     "name": "stdout",
     "output_type": "stream",
     "text": [
      "inputs:\n",
      "tensor([[ 1, 53, 44,  1, 59, 57, 12,  1],\n",
      "        [46,  6,  1, 47, 58,  1, 47, 57],\n",
      "        [50, 50,  1, 53, 59, 58,  0, 32],\n",
      "        [52,  1, 58, 46, 43,  1, 41, 50]])\n",
      "targets:\n",
      "tensor([[53, 44,  1, 59, 57, 12,  1, 41],\n",
      "        [ 6,  1, 47, 58,  1, 47, 57,  1],\n",
      "        [50,  1, 53, 59, 58,  0, 32, 53],\n",
      "        [ 1, 58, 46, 43,  1, 41, 50, 53]])\n"
     ]
    }
   ],
   "source": [
    "xb, yb = get_batch('train')\n",
    "print('inputs:')\n",
    "print(xb)\n",
    "print('targets:')\n",
    "print(yb)"
   ]
  },
  {
   "cell_type": "code",
   "execution_count": 55,
   "id": "d71d8a2d",
   "metadata": {},
   "outputs": [
    {
     "name": "stdout",
     "output_type": "stream",
     "text": [
      "torch.Size([4, 8])\n",
      "torch.Size([4, 8])\n"
     ]
    }
   ],
   "source": [
    "# and there shapes\n",
    "print(xb.shape)\n",
    "print(yb.shape)"
   ]
  },
  {
   "cell_type": "code",
   "execution_count": 56,
   "id": "959d244c",
   "metadata": {},
   "outputs": [
    {
     "name": "stdout",
     "output_type": "stream",
     "text": [
      "when input is [1] the target: 53\n",
      "when input is [1, 53] the target: 44\n",
      "when input is [1, 53, 44] the target: 1\n",
      "when input is [1, 53, 44, 1] the target: 59\n",
      "when input is [1, 53, 44, 1, 59] the target: 57\n",
      "when input is [1, 53, 44, 1, 59, 57] the target: 12\n",
      "when input is [1, 53, 44, 1, 59, 57, 12] the target: 1\n",
      "when input is [1, 53, 44, 1, 59, 57, 12, 1] the target: 41\n",
      "when input is [46] the target: 6\n",
      "when input is [46, 6] the target: 1\n",
      "when input is [46, 6, 1] the target: 47\n",
      "when input is [46, 6, 1, 47] the target: 58\n",
      "when input is [46, 6, 1, 47, 58] the target: 1\n",
      "when input is [46, 6, 1, 47, 58, 1] the target: 47\n",
      "when input is [46, 6, 1, 47, 58, 1, 47] the target: 57\n",
      "when input is [46, 6, 1, 47, 58, 1, 47, 57] the target: 1\n",
      "when input is [50] the target: 50\n",
      "when input is [50, 50] the target: 1\n",
      "when input is [50, 50, 1] the target: 53\n",
      "when input is [50, 50, 1, 53] the target: 59\n",
      "when input is [50, 50, 1, 53, 59] the target: 58\n",
      "when input is [50, 50, 1, 53, 59, 58] the target: 0\n",
      "when input is [50, 50, 1, 53, 59, 58, 0] the target: 32\n",
      "when input is [50, 50, 1, 53, 59, 58, 0, 32] the target: 53\n",
      "when input is [52] the target: 1\n",
      "when input is [52, 1] the target: 58\n",
      "when input is [52, 1, 58] the target: 46\n",
      "when input is [52, 1, 58, 46] the target: 43\n",
      "when input is [52, 1, 58, 46, 43] the target: 1\n",
      "when input is [52, 1, 58, 46, 43, 1] the target: 41\n",
      "when input is [52, 1, 58, 46, 43, 1, 41] the target: 50\n",
      "when input is [52, 1, 58, 46, 43, 1, 41, 50] the target: 53\n"
     ]
    }
   ],
   "source": [
    "for b in range(batch_size):  # for each sequence in the batch\n",
    "    for t in range(block_size):  # for each time step in the sequence\n",
    "        context = xb[b, :t+1]  # the context we have so far\n",
    "        target = yb[b, t]  # the next character we want to predict\n",
    "        print(f'when input is {context.tolist()} the target: {target}') "
   ]
  },
  {
   "cell_type": "markdown",
   "id": "38655adc",
   "metadata": {},
   "source": [
    "Let's feed our input to simple neural networks, we will be making use of `BigramLanguageModel`"
   ]
  },
  {
   "cell_type": "code",
   "execution_count": 57,
   "id": "b2c714d8",
   "metadata": {},
   "outputs": [],
   "source": [
    "import torch.nn as nn\n",
    "import torch.nn.functional as F\n",
    "\n",
    "torch.manual_seed(135)\n",
    "\n",
    "# simple bigram model\n",
    "class BigramLanguageModel(nn.Module):\n",
    "    def __init__(self, vocab_size):\n",
    "        super().__init__()\n",
    "        self.token_embedding_table = nn.Embedding(vocab_size, vocab_size)  # each token directly reads off the logits for the next token from a lookup table\n",
    "\n",
    "    def forward(self, idx, targets=None):\n",
    "        # idx and targets are both (B,T) tensor of integers\n",
    "        logits = self.token_embedding_table(idx)  # (B,T,C)\n",
    "\n",
    "        if targets is None:\n",
    "            loss = None\n",
    "        else:\n",
    "            B, T, C = logits.shape\n",
    "            logits = logits.view(B*T, C)\n",
    "            targets = targets.view(B*T)\n",
    "            loss = F.cross_entropy(logits, targets)\n",
    "\n",
    "        return logits, loss\n",
    "\n",
    "    def generate(self, idx, max_new_tokens):\n",
    "        # idx is (B,T) array of indices in the current context\n",
    "        for _ in range(max_new_tokens):\n",
    "            logits, loss = self(idx)  # (B,T,C)\n",
    "            logits = logits[:, -1, :]  # focus only on the last time step (B,C)\n",
    "            probs = F.softmax(logits, dim=-1)  # (B,C)\n",
    "            idx_next = torch.multinomial(probs, num_samples=1)  # (B,1)\n",
    "            idx = torch.cat((idx, idx_next), dim=1)  # append to the sequence\n",
    "        return idx"
   ]
  },
  {
   "cell_type": "code",
   "execution_count": 58,
   "id": "3ee5ec8a",
   "metadata": {},
   "outputs": [
    {
     "name": "stdout",
     "output_type": "stream",
     "text": [
      "torch.Size([32, 65])\n",
      "tensor(4.6684, grad_fn=<NllLossBackward0>)\n"
     ]
    }
   ],
   "source": [
    "m = BigramLanguageModel(vocab_size)\n",
    "logits, loss = m(xb, yb)\n",
    "print(logits.shape)\n",
    "print(loss)  # loss is a single scalar\n"
   ]
  },
  {
   "cell_type": "code",
   "execution_count": 59,
   "id": "86af69d3",
   "metadata": {},
   "outputs": [
    {
     "name": "stdout",
     "output_type": "stream",
     "text": [
      "\n",
      "D.:VV'QlZlCfFBS!P$nChtJVrMn;X3ax3rYnTlpIFmtbp RZNNTvagSPexCfPbJhadsRz'prG&y,;;eB&FFqnXaLZlpIFV!-F3af\n"
     ]
    }
   ],
   "source": [
    "idx = torch.zeros((1,1), dtype=torch.long)  # starting with a batch of size 1 and sequence length 1\n",
    "print(decode(m.generate(idx, max_new_tokens=100)[0].tolist()))  # decode the generated sequence to see what it looks like"
   ]
  },
  {
   "cell_type": "markdown",
   "id": "44704fa0",
   "metadata": {},
   "source": [
    "A very random output"
   ]
  },
  {
   "cell_type": "markdown",
   "id": "a0c6f8cf",
   "metadata": {},
   "source": [
    "Let's **train** the model"
   ]
  },
  {
   "cell_type": "code",
   "execution_count": 60,
   "id": "07692d2d",
   "metadata": {},
   "outputs": [],
   "source": [
    "# prepare the optimizer\n",
    "optimizer = torch.optim.AdamW(m.parameters(), lr=1e-3)\n",
    "\n"
   ]
  },
  {
   "cell_type": "code",
   "execution_count": 62,
   "id": "3a3f90e5",
   "metadata": {},
   "outputs": [
    {
     "name": "stdout",
     "output_type": "stream",
     "text": [
      "0 2.380831480026245\n",
      "1000 2.364262104034424\n",
      "2000 2.4205198287963867\n",
      "3000 2.4657340049743652\n",
      "4000 2.4013941287994385\n",
      "5000 2.3721094131469727\n",
      "6000 2.593458652496338\n",
      "7000 2.561976194381714\n",
      "8000 2.5262978076934814\n",
      "9000 2.496509075164795\n"
     ]
    }
   ],
   "source": [
    "batch_size = 32\n",
    "for steps in range(10000):\n",
    "    # sample a batch of data\n",
    "    xb, yb = get_batch('train')\n",
    "\n",
    "    # evaluate the loss\n",
    "    logits, loss = m(xb, yb)\n",
    "    optimizer.zero_grad(set_to_none=True)\n",
    "    loss.backward()\n",
    "    optimizer.step()\n",
    "\n",
    "    if steps % 1000 == 0:\n",
    "        print(steps, loss.item())"
   ]
  },
  {
   "cell_type": "code",
   "execution_count": 63,
   "id": "7b304702",
   "metadata": {},
   "outputs": [
    {
     "name": "stdout",
     "output_type": "stream",
     "text": [
      "\n",
      "\n",
      "Towatt llerus g ss fik NNCETherd, gouco oonginhe t huepibee ys'sus ane main,\n",
      "Manighebroceat ld\n",
      "ARaun soubukis.\n",
      "\n",
      "\n",
      "elinoryor, Pl y?\n",
      "Fifonnd tie ot hit kes odeaisam fore ssst.\n",
      "TIne;\n",
      "jomy ave baceit MNS:\n",
      "Wimp t collepand yokerowores be, reer cesprrithar' ted.\n",
      "Fiolayoswites tcoth t w\n",
      "OUTheving by:\n",
      "KIft eroofakemecen I ar fo meisss y mer:\n",
      "NThafaueajurin:\n",
      "OMEved yothange, a th touf I fref yorouecl'serowindiff s KI's baponout oveethod omag he?\n",
      "There fowamin Is je cullcel hind ave fomealene trooowh a Pr\n"
     ]
    }
   ],
   "source": [
    "print(decode(m.generate(idx, max_new_tokens=500)[0].tolist()))  # decode the generated sequence to see what it looks like"
   ]
  },
  {
   "cell_type": "markdown",
   "id": "aac84cb8",
   "metadata": {},
   "source": [
    "**A mathematical trick in self-attention**"
   ]
  },
  {
   "cell_type": "code",
   "execution_count": 64,
   "id": "e9efdcf2",
   "metadata": {},
   "outputs": [
    {
     "name": "stdout",
     "output_type": "stream",
     "text": [
      "torch.Size([4, 8, 2])\n"
     ]
    }
   ],
   "source": [
    "# a toy example\n",
    "\n",
    "B,T,C = 4,8,2\n",
    "x = torch.randn(B,T,C)\n",
    "print(x.shape)"
   ]
  },
  {
   "cell_type": "markdown",
   "id": "687d9dc4",
   "metadata": {},
   "source": [
    "We want the tokens to talk to each other"
   ]
  },
  {
   "cell_type": "code",
   "execution_count": null,
   "id": "ca72675c",
   "metadata": {},
   "outputs": [
    {
     "name": "stdout",
     "output_type": "stream",
     "text": [
      "tensor([[[-0.2821, -0.1073],\n",
      "         [-1.0871,  0.0314],\n",
      "         [ 0.1231,  0.2967],\n",
      "         [-0.0860,  0.3534],\n",
      "         [-0.3350,  0.2186],\n",
      "         [-0.4511,  0.2609],\n",
      "         [-0.6646,  0.3740],\n",
      "         [-0.6330,  0.1526]],\n",
      "\n",
      "        [[ 0.9311, -0.1941],\n",
      "         [ 0.6566,  0.0801],\n",
      "         [ 0.6677, -0.3998],\n",
      "         [ 0.8455, -0.5342],\n",
      "         [ 0.4392, -0.3708],\n",
      "         [ 0.2252, -0.6094],\n",
      "         [ 0.0256, -0.5129],\n",
      "         [ 0.1372, -0.5472]],\n",
      "\n",
      "        [[-0.6001, -0.9921],\n",
      "         [-0.1383, -0.5118],\n",
      "         [-0.9251, -0.4939],\n",
      "         [-0.3496, -0.4052],\n",
      "         [-0.2337, -0.4883],\n",
      "         [-0.2670, -0.2690],\n",
      "         [-0.5445, -0.0915],\n",
      "         [-0.2067, -0.0571]],\n",
      "\n",
      "        [[ 0.3005,  0.0087],\n",
      "         [ 0.2932,  0.3764],\n",
      "         [-0.0314, -0.1346],\n",
      "         [-0.0230,  0.0532],\n",
      "         [ 0.2354, -0.0380],\n",
      "         [ 0.4469, -0.2601],\n",
      "         [ 0.4726, -0.4345],\n",
      "         [ 0.3180, -0.4246]]])\n"
     ]
    }
   ],
   "source": [
    "# we want the tokens to talk to each other, but only to the left context\n",
    "\n",
    "# **A mathematical trick in self-attention**\n",
    "\n",
    "xbow = torch.zeros((B,T,C))\n",
    "for b in range(B):                            # doing a for loop : not very efficient\n",
    "    for t in range(T):\n",
    "        xbow[b,t] = torch.mean(x[b,:t+1], 0)  # average over the context\n",
    "print(xbow)"
   ]
  },
  {
   "cell_type": "code",
   "execution_count": 66,
   "id": "648904ce",
   "metadata": {},
   "outputs": [
    {
     "data": {
      "text/plain": [
       "tensor([[-0.2821, -0.1073],\n",
       "        [-1.8922,  0.1701],\n",
       "        [ 2.5436,  0.8273],\n",
       "        [-0.7131,  0.5235],\n",
       "        [-1.3311, -0.3204],\n",
       "        [-1.0315,  0.4724],\n",
       "        [-1.9455,  1.0520],\n",
       "        [-0.4120, -1.3968]])"
      ]
     },
     "execution_count": 66,
     "metadata": {},
     "output_type": "execute_result"
    }
   ],
   "source": [
    "x[0]"
   ]
  },
  {
   "cell_type": "code",
   "execution_count": 67,
   "id": "4125bedc",
   "metadata": {},
   "outputs": [
    {
     "data": {
      "text/plain": [
       "tensor([[-0.2821, -0.1073],\n",
       "        [-1.0871,  0.0314],\n",
       "        [ 0.1231,  0.2967],\n",
       "        [-0.0860,  0.3534],\n",
       "        [-0.3350,  0.2186],\n",
       "        [-0.4511,  0.2609],\n",
       "        [-0.6646,  0.3740],\n",
       "        [-0.6330,  0.1526]])"
      ]
     },
     "execution_count": 67,
     "metadata": {},
     "output_type": "execute_result"
    }
   ],
   "source": [
    "xbow[0]"
   ]
  },
  {
   "cell_type": "code",
   "execution_count": 68,
   "id": "678b194b",
   "metadata": {},
   "outputs": [
    {
     "name": "stdout",
     "output_type": "stream",
     "text": [
      "tensor([[1., 1., 1.],\n",
      "        [1., 1., 1.],\n",
      "        [1., 1., 1.]])\n",
      "tensor([[6., 2.],\n",
      "        [7., 2.],\n",
      "        [8., 6.]])\n",
      "tensor([[21., 10.],\n",
      "        [21., 10.],\n",
      "        [21., 10.]])\n"
     ]
    }
   ],
   "source": [
    "# we can do this with matrix operations, lets understand this with a toy example\n",
    "\n",
    "a = torch.ones(3,3)\n",
    "b = torch.randint(0,10,(3,2)).float()\n",
    "c = a @ b\n",
    "\n",
    "print(a)\n",
    "print(b)\n",
    "print(c)"
   ]
  },
  {
   "cell_type": "code",
   "execution_count": 71,
   "id": "21d79eb9",
   "metadata": {},
   "outputs": [
    {
     "name": "stdout",
     "output_type": "stream",
     "text": [
      "tensor([[1.0000, 0.0000, 0.0000],\n",
      "        [0.5000, 0.5000, 0.0000],\n",
      "        [0.3333, 0.3333, 0.3333]])\n",
      "tensor([[6., 2.],\n",
      "        [7., 2.],\n",
      "        [8., 6.]])\n",
      "tensor([[6.0000, 2.0000],\n",
      "        [6.5000, 2.0000],\n",
      "        [7.0000, 3.3333]])\n"
     ]
    }
   ],
   "source": [
    "# lets see tril\n",
    "\n",
    "a = torch.tril(torch.ones(3,3))\n",
    "a = a / torch.sum(a,1,keepdim=True)  # normalize the rows to sum to 1\n",
    "\n",
    "print(a)\n",
    "print(b)\n",
    "c = a @ b\n",
    "print(c)\n"
   ]
  },
  {
   "cell_type": "markdown",
   "id": "7c6d7fbc",
   "metadata": {},
   "source": [
    "We can get averages in incremental fashion, by using `tril`. Lets go back"
   ]
  },
  {
   "cell_type": "code",
   "execution_count": 72,
   "id": "e419d142",
   "metadata": {},
   "outputs": [
    {
     "name": "stdout",
     "output_type": "stream",
     "text": [
      "tensor([[1.0000, 0.0000, 0.0000, 0.0000, 0.0000, 0.0000, 0.0000, 0.0000],\n",
      "        [0.5000, 0.5000, 0.0000, 0.0000, 0.0000, 0.0000, 0.0000, 0.0000],\n",
      "        [0.3333, 0.3333, 0.3333, 0.0000, 0.0000, 0.0000, 0.0000, 0.0000],\n",
      "        [0.2500, 0.2500, 0.2500, 0.2500, 0.0000, 0.0000, 0.0000, 0.0000],\n",
      "        [0.2000, 0.2000, 0.2000, 0.2000, 0.2000, 0.0000, 0.0000, 0.0000],\n",
      "        [0.1667, 0.1667, 0.1667, 0.1667, 0.1667, 0.1667, 0.0000, 0.0000],\n",
      "        [0.1429, 0.1429, 0.1429, 0.1429, 0.1429, 0.1429, 0.1429, 0.0000],\n",
      "        [0.1250, 0.1250, 0.1250, 0.1250, 0.1250, 0.1250, 0.1250, 0.1250]])\n",
      "True\n"
     ]
    }
   ],
   "source": [
    "wei = torch.tril(torch.ones(T,T))\n",
    "wei = wei / torch.sum(wei,1,keepdim=True)  # normalize the rows to sum to 1\n",
    "print(wei)\n",
    "xbow2 = wei @ x  # (B,T,T) @ (B,T,C) -> (B,T,C)\n",
    "print(torch.allclose(xbow, xbow2))\n"
   ]
  },
  {
   "cell_type": "code",
   "execution_count": null,
   "id": "d838cd62",
   "metadata": {},
   "outputs": [
    {
     "name": "stdout",
     "output_type": "stream",
     "text": [
      "tensor([[1.0000, 0.0000, 0.0000, 0.0000, 0.0000, 0.0000, 0.0000, 0.0000],\n",
      "        [0.5000, 0.5000, 0.0000, 0.0000, 0.0000, 0.0000, 0.0000, 0.0000],\n",
      "        [0.3333, 0.3333, 0.3333, 0.0000, 0.0000, 0.0000, 0.0000, 0.0000],\n",
      "        [0.2500, 0.2500, 0.2500, 0.2500, 0.0000, 0.0000, 0.0000, 0.0000],\n",
      "        [0.2000, 0.2000, 0.2000, 0.2000, 0.2000, 0.0000, 0.0000, 0.0000],\n",
      "        [0.1667, 0.1667, 0.1667, 0.1667, 0.1667, 0.1667, 0.0000, 0.0000],\n",
      "        [0.1429, 0.1429, 0.1429, 0.1429, 0.1429, 0.1429, 0.1429, 0.0000],\n",
      "        [0.1250, 0.1250, 0.1250, 0.1250, 0.1250, 0.1250, 0.1250, 0.1250]])\n",
      "True\n"
     ]
    }
   ],
   "source": [
    "# another version of the same, using softmax\n",
    "tril = torch.tril(torch.ones(T,T))\n",
    "wei = torch.zeros((T,T))\n",
    "wei = wei.masked_fill(tril == 0, float('-inf'))\n",
    "wei = F.softmax(wei, dim=-1)\n",
    "print(wei)\n",
    "\n",
    "xbow3 = wei @ x\n",
    "print(torch.allclose(xbow, xbow3))"
   ]
  },
  {
   "cell_type": "markdown",
   "id": "47c76773",
   "metadata": {},
   "source": [
    "### **Multi-Head Attention**"
   ]
  },
  {
   "cell_type": "code",
   "execution_count": 84,
   "id": "a6489ba8",
   "metadata": {},
   "outputs": [
    {
     "name": "stdout",
     "output_type": "stream",
     "text": [
      "torch.Size([4, 8, 8])\n",
      "torch.Size([4, 8, 16])\n"
     ]
    }
   ],
   "source": [
    "B,T,C = 4,8,32\n",
    "x = torch.randn(B,T,C)\n",
    "\n",
    "\n",
    "# single head self attention\n",
    "head_size = 16\n",
    "key = nn.Linear(C, head_size, bias=False)\n",
    "query = nn.Linear(C, head_size, bias=False)\n",
    "value = nn.Linear(C, head_size, bias=False)\n",
    "\n",
    "\n",
    "\n",
    "k = key(x)   # (B,T,16)\n",
    "q = query(x) # (B,T,16)\n",
    "v = value(x) # (B,T,16)\n",
    "\n",
    "\n",
    "\n",
    "# compute attention scores (\"affinities\")\n",
    "wei = q @ k.transpose(-2,-1) * head_size**-0.5  # (B,T,16) @ (B,16,T) -> (B,T,T)\n",
    "print(wei.shape)\n",
    "\n",
    "tril = torch.tril(torch.ones(T,T))\n",
    "wei = wei.masked_fill(tril == 0, float('-inf'))\n",
    "wei = F.softmax(wei, dim=-1)\n",
    "\n",
    "out = wei @ v  # (B,T,T) @ (B,T,C) -> (B,T,C)\n",
    "print(out.shape)"
   ]
  },
  {
   "cell_type": "code",
   "execution_count": 81,
   "id": "33256127",
   "metadata": {},
   "outputs": [
    {
     "name": "stdout",
     "output_type": "stream",
     "text": [
      "tensor([[1., 0., 0., 0., 0., 0., 0., 0.],\n",
      "        [1., 1., 0., 0., 0., 0., 0., 0.],\n",
      "        [1., 1., 1., 0., 0., 0., 0., 0.],\n",
      "        [1., 1., 1., 1., 0., 0., 0., 0.],\n",
      "        [1., 1., 1., 1., 1., 0., 0., 0.],\n",
      "        [1., 1., 1., 1., 1., 1., 0., 0.],\n",
      "        [1., 1., 1., 1., 1., 1., 1., 0.],\n",
      "        [1., 1., 1., 1., 1., 1., 1., 1.]])\n"
     ]
    }
   ],
   "source": [
    "# you can see the tril matrix is used to mask out future tokens\n",
    "print(tril)"
   ]
  },
  {
   "cell_type": "code",
   "execution_count": 83,
   "id": "052e6809",
   "metadata": {},
   "outputs": [
    {
     "name": "stdout",
     "output_type": "stream",
     "text": [
      "tensor([[1.0000, 0.0000, 0.0000, 0.0000, 0.0000, 0.0000, 0.0000, 0.0000],\n",
      "        [0.4997, 0.5003, 0.0000, 0.0000, 0.0000, 0.0000, 0.0000, 0.0000],\n",
      "        [0.3270, 0.3513, 0.3217, 0.0000, 0.0000, 0.0000, 0.0000, 0.0000],\n",
      "        [0.1513, 0.1852, 0.1590, 0.5044, 0.0000, 0.0000, 0.0000, 0.0000],\n",
      "        [0.1755, 0.1318, 0.1860, 0.3205, 0.1862, 0.0000, 0.0000, 0.0000],\n",
      "        [0.1726, 0.2249, 0.1000, 0.0921, 0.1424, 0.2680, 0.0000, 0.0000],\n",
      "        [0.1253, 0.2302, 0.1376, 0.1384, 0.2054, 0.0554, 0.1078, 0.0000],\n",
      "        [0.1617, 0.0989, 0.1200, 0.1255, 0.1418, 0.0963, 0.1171, 0.1387]],\n",
      "       grad_fn=<SelectBackward0>)\n"
     ]
    }
   ],
   "source": [
    "# and the wei matrix is the softmaxed version of it\n",
    "print(wei[0])"
   ]
  },
  {
   "cell_type": "markdown",
   "id": "49a0ab70",
   "metadata": {},
   "source": [
    "1. Attention is a communication mechanism, can be seen as nodes in a directed graph looking at each other and aggregating information with a weighted sum from all nodes that point to them, with data dependent weights.\n",
    "2. There is no notion of space, attention simply acts over a set of vectors, so we need positional encoding.\n"
   ]
  },
  {
   "cell_type": "markdown",
   "id": "2242ea27",
   "metadata": {},
   "source": [
    "**Scaled Attention**"
   ]
  },
  {
   "cell_type": "code",
   "execution_count": null,
   "id": "ca21a5ac",
   "metadata": {},
   "outputs": [],
   "source": [
    "k = torch.randn(B,T, head_size)\n",
    "q = torch.randn(B,T, head_size)\n",
    "wei = q @ k.transpose(-2,-1) * head_size**-0.5 # scaling is used to prevent the variance of the dot product from getting too large\n"
   ]
  },
  {
   "cell_type": "code",
   "execution_count": 92,
   "id": "63055f67",
   "metadata": {},
   "outputs": [
    {
     "name": "stdout",
     "output_type": "stream",
     "text": [
      " k.var(): 1.0613439083099365\n",
      " q.var(): 0.9738199710845947\n",
      " v.var(): 0.3055475056171417\n",
      " wei.var(): 0.8701637983322144\n"
     ]
    }
   ],
   "source": [
    "print(f\" k.var(): {k.var()}\")\n",
    "print(f\" q.var(): {q.var()}\")\n",
    "print(f\" v.var(): {v.var()}\")\n",
    "\n",
    "print(f\" wei.var(): {wei.var()}\")"
   ]
  },
  {
   "cell_type": "code",
   "execution_count": null,
   "id": "bbf71508",
   "metadata": {},
   "outputs": [],
   "source": []
  }
 ],
 "metadata": {
  "kernelspec": {
   "display_name": "Roadmap-to-LLMs",
   "language": "python",
   "name": "python3"
  },
  "language_info": {
   "codemirror_mode": {
    "name": "ipython",
    "version": 3
   },
   "file_extension": ".py",
   "mimetype": "text/x-python",
   "name": "python",
   "nbconvert_exporter": "python",
   "pygments_lexer": "ipython3",
   "version": "3.12.10"
  }
 },
 "nbformat": 4,
 "nbformat_minor": 5
}
